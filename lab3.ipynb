{
  "nbformat": 4,
  "nbformat_minor": 0,
  "metadata": {
    "colab": {
      "provenance": [],
      "authorship_tag": "ABX9TyNk4fKUMIynOjDo4UIABJJM",
      "include_colab_link": true
    },
    "kernelspec": {
      "name": "python3",
      "display_name": "Python 3"
    },
    "language_info": {
      "name": "python"
    }
  },
  "cells": [
    {
      "cell_type": "markdown",
      "metadata": {
        "id": "view-in-github",
        "colab_type": "text"
      },
      "source": [
        "<a href=\"https://colab.research.google.com/github/wem117/pp2/blob/main/lab3.ipynb\" target=\"_parent\"><img src=\"https://colab.research.google.com/assets/colab-badge.svg\" alt=\"Open In Colab\"/></a>"
      ]
    },
    {
      "cell_type": "markdown",
      "source": [
        "classes 2\n",
        "Define a class named Shape and its subclass Square. The Square class has an init function which takes a length as argument. Both classes have a area function which can print the area of the shape where Shape's area is 0 by default.\n",
        "\n"
      ],
      "metadata": {
        "id": "upjnL44OosUy"
      }
    },
    {
      "cell_type": "code",
      "source": [
        "class Shape:\n",
        "    def area(self):\n",
        "        return 0\n",
        "\n",
        "class Square(Shape):\n",
        "    def __init__(self, length):\n",
        "        self.length = length\n",
        "\n",
        "    def area(self):\n",
        "        return self.length * self.length\n"
      ],
      "metadata": {
        "id": "n5njvGeqo3hD"
      },
      "execution_count": null,
      "outputs": []
    },
    {
      "cell_type": "code",
      "source": [
        "class Shape:\n",
        "    def area(self):\n",
        "        return 0\n",
        "\n",
        "class Rectangle(Shape):\n",
        "    def __init__(self, length, width):\n",
        "        self.length = length\n",
        "        self.width = width\n",
        "\n",
        "    def area(self):\n",
        "        return self.length * self.width\n"
      ],
      "metadata": {
        "id": "OSXURhjtpIBy"
      },
      "execution_count": null,
      "outputs": []
    },
    {
      "cell_type": "markdown",
      "source": [
        "classes 1"
      ],
      "metadata": {
        "id": "sD9edlJh_WhV"
      }
    },
    {
      "cell_type": "code",
      "source": [
        "class StringProcessor:\n",
        "    def __init__(self):\n",
        "        self.string = \"\"\n",
        "\n",
        "    def getString(self):\n",
        "        self.string = input()\n",
        "\n",
        "    def printString(self):\n",
        "        print(self.string.upper())"
      ],
      "metadata": {
        "id": "__UDwLUw_ZlT"
      },
      "execution_count": null,
      "outputs": []
    },
    {
      "cell_type": "markdown",
      "source": [
        "classes 4\n",
        "Write the definition of a Point class. Objects from this class should have a\n",
        "\n",
        "a method show to display the coordinates of the point\n",
        "a method move to change these coordinates\n",
        "a method dist that computes the distance between 2 points"
      ],
      "metadata": {
        "id": "abojFJ5FpPIl"
      }
    },
    {
      "cell_type": "code",
      "source": [
        "import math\n",
        "\n",
        "class Point:\n",
        "    def __init__(self, x, y):\n",
        "        self.x = x\n",
        "        self.y = y\n",
        "\n",
        "    def show(self):\n",
        "        print(f\"({self.x}, {self.y})\")\n",
        "\n",
        "    def move(self, dx, dy):\n",
        "        self.x += dx\n",
        "        self.y += dy\n",
        "\n",
        "    def dist(self, other):\n",
        "        return math.sqrt((self.x - other.x) ** 2 + (self.y - other.y) ** 2)\n"
      ],
      "metadata": {
        "id": "vsaGc5a2pUZa"
      },
      "execution_count": null,
      "outputs": []
    },
    {
      "cell_type": "markdown",
      "source": [
        "classes 5\n",
        "Create a bank account class that has attributes owner, balance and two methods deposit and withdraw. Withdrawals may not exceed the available balance. Instantiate your class, make several deposits and withdrawals, and test to make sure the account can't be overdrawn."
      ],
      "metadata": {
        "id": "Gy5rybsupgv3"
      }
    },
    {
      "cell_type": "code",
      "source": [
        "class Account:\n",
        "    def __init__(self, owner, balance=0):\n",
        "        self.owner = owner\n",
        "        self.balance = balance\n",
        "\n",
        "    def deposit(self, amount):\n",
        "        if amount > 0:\n",
        "            self.balance += amount\n",
        "        else:\n",
        "            print(\"Deposit amount must be positive.\")\n",
        "\n",
        "    def withdraw(self, amount):\n",
        "        if amount > 0 and amount <= self.balance:\n",
        "            self.balance -= amount\n",
        "        elif amount > self.balance:\n",
        "            print(\"Insufficient funds!\")\n",
        "        else:\n",
        "            print(\"Withdraw amount must be positive.\")\n"
      ],
      "metadata": {
        "id": "0ams6jBIp6yH"
      },
      "execution_count": null,
      "outputs": []
    },
    {
      "cell_type": "markdown",
      "source": [
        "classes 6\n",
        "Write a program which can filter prime numbers in a list by using filter function. Note: Use lambda to define anonymous functions."
      ],
      "metadata": {
        "id": "swZfoJbUp8BW"
      }
    },
    {
      "cell_type": "code",
      "source": [
        "is_prime = lambda n: n > 1 and all(n % i != 0 for i in range(2, int(n ** 0.5) + 1))\n",
        "numbers = [10, 15, 23, 42, 5, 17, 30, 11]\n",
        "prime_numbers = list(filter(is_prime, numbers))\n",
        "print(prime_numbers)\n"
      ],
      "metadata": {
        "id": "euY8K6V-qIB1"
      },
      "execution_count": null,
      "outputs": []
    },
    {
      "cell_type": "markdown",
      "source": [
        "11 task\n",
        "Write a Python function that checks whether a word or phrase is palindrome or not. Note: A palindrome is word, phrase, or sequence that reads the same backward as forward, e.g., madam"
      ],
      "metadata": {
        "id": "7vpPOz9QqRVm"
      }
    },
    {
      "cell_type": "code",
      "source": [
        "def is_palondrome(s):\n",
        "    s = s.lower().replace(\" \", \"\")\n",
        "    return s == s[::-1]\n",
        "\n",
        "user_input = input()\n",
        "if is_palondrome(user_input):\n",
        "    print(\"Yea\")\n",
        "else:\n",
        "    print(\"Nah\")"
      ],
      "metadata": {
        "id": "8hEkUDMTqTw8"
      },
      "execution_count": null,
      "outputs": []
    },
    {
      "cell_type": "markdown",
      "source": [
        "12 task"
      ],
      "metadata": {
        "id": "230LGqELqasn"
      }
    },
    {
      "cell_type": "code",
      "source": [
        "#Define a functino histogram() that takes a list of integers and prints a histogram to the screen. For example, histogram([4, 9, 7]) should print the following:\n",
        "def histogram(lst):\n",
        "    for item in lst:\n",
        "        print(\"*\" * item)\n",
        "\n",
        "user_input = input()\n",
        "nums = list(map(int, user_input.split()))\n",
        "histogram(nums)\n",
        "#ex: 3 4 -> *** /n ****"
      ],
      "metadata": {
        "id": "m2z9oQb9qcdS"
      },
      "execution_count": null,
      "outputs": []
    },
    {
      "cell_type": "markdown",
      "source": [
        "13 task\n",
        "Write a program able to play the \"Guess the number\" - game, where the number to be guessed is randomly chosen between 1 and 20. This is how it should work when run in a terminal:"
      ],
      "metadata": {
        "id": "TLODmEDHqspf"
      }
    },
    {
      "cell_type": "code",
      "source": [
        "import random\n",
        "\n",
        "def guess_number_game():\n",
        "    print(\"Hello! What is your name?\")\n",
        "    name = input()\n",
        "\n",
        "    number_to_guess = random.randint(1, 20)\n",
        "    print(f\"Well, {name}, I am thinking of a number between 1 and 20.\")\n",
        "    guesses_taken = 0\n",
        "\n",
        "    while True:\n",
        "        print(\"Take a guess.\")\n",
        "        guess = int(input())\n",
        "        guesses_taken += 1\n",
        "\n",
        "        if guess < number_to_guess:\n",
        "            print(\"Your guess is too low.\")\n",
        "        elif guess > number_to_guess:\n",
        "            print(\"Your guess is too high.\")\n",
        "        else:\n",
        "            print(f\"Good job, {name}! You guessed my number in {guesses_taken} guesses!\")\n",
        "            break\n",
        "\n",
        "guess_number_game()\n"
      ],
      "metadata": {
        "id": "8o1EZ9QNq7DQ"
      },
      "execution_count": null,
      "outputs": []
    },
    {
      "cell_type": "code",
      "source": [
        "#func2 1-2 task\n",
        "#Write a function that takes a single movie and returns True if its IMDB score is above 5.5\n",
        "def great_score(movies):\n",
        "    return [movie for movie in movies if movie[\"imdb\"] > 5.5]\n",
        "\n",
        "great_movies = great_score(movies)\n",
        "for movie in great_movies:\n",
        "    print(f\"{movie['name']} (IMDB: {movie['imdb']}\")"
      ],
      "metadata": {
        "id": "C--kGIMrrGoI"
      },
      "execution_count": null,
      "outputs": []
    },
    {
      "cell_type": "code",
      "source": [
        "#func2 3 task\n",
        "def get_movies_by_category(movies, category):\n",
        "    return [movie for movie in movies if movie[\"category\"].lower() == category.lower()]\n",
        "\n",
        "\n",
        "category_name = input()\n",
        "filtered_movies = get_movies_by_category(movies, category_name)\n",
        "\n",
        "\n",
        "if filtered_movies:\n",
        "    print(f\"{category_name}\")\n",
        "    for movie in filtered_movies:\n",
        "        print(f\"{movie['name']} (IMDB: {movie['imdb']})\")\n",
        "else:\n",
        "    print(f\"\\nNo movies found in category '{category_name}'.\")"
      ],
      "metadata": {
        "id": "sc3t3zlerImk"
      },
      "execution_count": null,
      "outputs": []
    },
    {
      "cell_type": "code",
      "source": [
        "#func2 4 task\n",
        "def average_imdb(movies):\n",
        "    if not movies:\n",
        "        return 0\n",
        "    total_score = sum(movie[\"imdb\"] for movie in movies)\n",
        "    return total_score / len(movies)\n",
        "\n",
        "\n",
        "avg_score = average_imdb(movies)\n",
        "print(f\"Average IMDB score: {avg_score:.2f}\")"
      ],
      "metadata": {
        "id": "JOTNT4WPrUFA"
      },
      "execution_count": null,
      "outputs": []
    },
    {
      "cell_type": "code",
      "source": [
        "#func2 5 task\n",
        "def average_imdb_by_category(movies, category):\n",
        "    filtered_movies = [movie for movie in movies if movie[\"category\"].lower() == category.lower()]\n",
        "\n",
        "    if not filtered_movies:\n",
        "        return 0\n",
        "\n",
        "    total_score = sum(movie[\"imdb\"] for movie in filtered_movies)\n",
        "    return total_score / len(filtered_movies)\n",
        "\n",
        "\n",
        "category_name = input()\n",
        "avg_score = average_imdb_by_category(movies, category_name)\n",
        "\n",
        "if avg_score > 0:\n",
        "    print(f\"'{category_name}': {avg_score:.2f}\")\n",
        "else:\n",
        "    print(f\"No movies '{category_name}'.\")"
      ],
      "metadata": {
        "id": "59nct569rZiD"
      },
      "execution_count": null,
      "outputs": []
    }
  ]
}