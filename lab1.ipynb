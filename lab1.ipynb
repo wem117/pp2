{
  "nbformat": 4,
  "nbformat_minor": 0,
  "metadata": {
    "colab": {
      "provenance": [],
      "authorship_tag": "ABX9TyPy7DUw+xFBw/h0VYPyUpWL",
      "include_colab_link": true
    },
    "kernelspec": {
      "name": "python3",
      "display_name": "Python 3"
    },
    "language_info": {
      "name": "python"
    }
  },
  "cells": [
    {
      "cell_type": "markdown",
      "metadata": {
        "id": "view-in-github",
        "colab_type": "text"
      },
      "source": [
        "<a href=\"https://colab.research.google.com/github/wem117/pp2/blob/main/lab1.ipynb\" target=\"_parent\"><img src=\"https://colab.research.google.com/assets/colab-badge.svg\" alt=\"Open In Colab\"/></a>"
      ]
    },
    {
      "cell_type": "code",
      "execution_count": 1,
      "metadata": {
        "id": "tLFji0WTur_a"
      },
      "outputs": [],
      "source": [
        "\n",
        "#python variables w3\n",
        "#True or False:\n",
        "#You can declare string variables with single or double quotes.\n",
        "\n",
        "x = \"John\"\n",
        "# is the same as\n",
        "x = 'John'\n",
        "\n",
        "#true"
      ]
    },
    {
      "cell_type": "code",
      "source": [
        "\n",
        "#Select the correct functions to print the data type of a variable:\n",
        "print(type(myvar))"
      ],
      "metadata": {
        "id": "-0DqHW6ew8Pi"
      },
      "execution_count": null,
      "outputs": []
    },
    {
      "cell_type": "code",
      "source": [
        "#Create a variable named carname and assign the value Volvo to it.\n",
        "carnage = \"Volvo\""
      ],
      "metadata": {
        "id": "8pK5IqdcxR8e"
      },
      "execution_count": null,
      "outputs": []
    },
    {
      "cell_type": "code",
      "source": [
        "#Insert the correct syntax to assign values to multiple variables in one line:\n",
        "x, y, z = \"Orange\", \"Banana\", \"Cherry\""
      ],
      "metadata": {
        "id": "swArTdRGx0a-"
      },
      "execution_count": null,
      "outputs": []
    },
    {
      "cell_type": "code",
      "source": [
        "\n",
        "#What will be the printed result?\n",
        "x = 'awesome'\n",
        "def myfunc():\n",
        "  x = 'fantastic'\n",
        "myfunc()\n",
        "print('Python is ' + x)"
      ],
      "metadata": {
        "id": "VxUK6AJayY_U"
      },
      "execution_count": null,
      "outputs": []
    },
    {
      "cell_type": "code",
      "source": [
        "#Insert the correct keyword to make the variable x belong to the global scope.\n",
        "def myfunc():\n",
        "\n",
        "global x\n",
        "\n",
        "  x = \"fantastic\""
      ],
      "metadata": {
        "id": "-_fQfqWfyeCx"
      },
      "execution_count": null,
      "outputs": []
    },
    {
      "cell_type": "code",
      "source": [
        "#The following code example would print the data type of x, what data type would that be?\n",
        "x = 5\n",
        "print(type(x))\n",
        "#int"
      ],
      "metadata": {
        "id": "M_4y820Ayr_q"
      },
      "execution_count": null,
      "outputs": []
    },
    {
      "cell_type": "code",
      "source": [
        "#Insert the correct syntax to convert x into a floating point number.\n",
        "\n",
        "\n",
        "x = 5\n",
        "x = float(x)"
      ],
      "metadata": {
        "id": "E3mWrekFzM1W"
      },
      "execution_count": null,
      "outputs": []
    },
    {
      "cell_type": "code",
      "source": [
        "#What will be the result of the following code:\n",
        "x = 'Welcome'\n",
        "print(x[3])\n",
        "#c"
      ],
      "metadata": {
        "colab": {
          "base_uri": "https://localhost:8080/"
        },
        "id": "iT_htSebzQhm",
        "outputId": "bc5c544b-ef47-4782-cb40-4759870fe989"
      },
      "execution_count": 2,
      "outputs": [
        {
          "output_type": "stream",
          "name": "stdout",
          "text": [
            "c\n"
          ]
        }
      ]
    },
    {
      "cell_type": "code",
      "source": [
        "#Use the len function to print the length of the string.\n",
        "\n",
        "\n",
        "x = \"Hello World\"\n",
        "print(len(x))"
      ],
      "metadata": {
        "id": "kNyGBUSR0FeF"
      },
      "execution_count": null,
      "outputs": []
    },
    {
      "cell_type": "code",
      "source": [
        "#Get the first character of the string txt.\n",
        "\n",
        "\n",
        "txt = \"Hello World\"\n",
        "x = txt[0]"
      ],
      "metadata": {
        "id": "2S8drnjQ0T12"
      },
      "execution_count": null,
      "outputs": []
    },
    {
      "cell_type": "code",
      "source": [
        "#Get the characters from index 2 to index 4 (llo).\n",
        "\n",
        "\n",
        "txt = \"Hello World\"\n",
        "x = txt[2:5]"
      ],
      "metadata": {
        "id": "xDHcboKK0pU1"
      },
      "execution_count": null,
      "outputs": []
    },
    {
      "cell_type": "code",
      "source": [
        "#Return the string without any whitespace at the beginning or the end.\n",
        "\n",
        "\n",
        "txt = \" Hello World \"\n",
        "x = txt.strip()"
      ],
      "metadata": {
        "id": "OFhrb3l803HG"
      },
      "execution_count": 4,
      "outputs": []
    },
    {
      "cell_type": "code",
      "source": [
        "#Convert the value of txt to lower case.\n",
        "\n",
        "\n",
        "txt = \"Hello World\"\n",
        "txt = txt.lower()"
      ],
      "metadata": {
        "id": "WWxN-IiG1NXS"
      },
      "execution_count": null,
      "outputs": []
    },
    {
      "cell_type": "code",
      "source": [
        "#Convert the value of txt to upper case.\n",
        "\n",
        "\n",
        "txt = \"Hello World\"\n",
        "txt = txt.upper()"
      ],
      "metadata": {
        "id": "gU5k1Haf0-pe"
      },
      "execution_count": null,
      "outputs": []
    },
    {
      "cell_type": "code",
      "source": [
        "#Replace the character H with a J.\n",
        "\n",
        "\n",
        "txt = \"Hello World\"\n",
        "txt = txt.replace(\"H\", \"J\")"
      ],
      "metadata": {
        "id": "hlMD2enA1bz0"
      },
      "execution_count": null,
      "outputs": []
    },
    {
      "cell_type": "code",
      "source": [
        "#Insert the correct syntax to add a placeholder for the age parameter.\n",
        "\n",
        "\n",
        "age = 36\n",
        "txt = f\"My name is John, and I am {age}\"\n",
        "print(txt)"
      ],
      "metadata": {
        "id": "XOcN5IdR12_W"
      },
      "execution_count": null,
      "outputs": []
    }
  ]
}