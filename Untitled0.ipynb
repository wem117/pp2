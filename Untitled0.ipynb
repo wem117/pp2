{
  "nbformat": 4,
  "nbformat_minor": 0,
  "metadata": {
    "colab": {
      "provenance": [],
      "authorship_tag": "ABX9TyMXrZ/iodTN3yZ4z7heEiYZ",
      "include_colab_link": true
    },
    "kernelspec": {
      "name": "python3",
      "display_name": "Python 3"
    },
    "language_info": {
      "name": "python"
    }
  },
  "cells": [
    {
      "cell_type": "markdown",
      "metadata": {
        "id": "view-in-github",
        "colab_type": "text"
      },
      "source": [
        "<a href=\"https://colab.research.google.com/github/wem117/pp2/blob/main/Untitled0.ipynb\" target=\"_parent\"><img src=\"https://colab.research.google.com/assets/colab-badge.svg\" alt=\"Open In Colab\"/></a>"
      ]
    },
    {
      "cell_type": "markdown",
      "source": [
        "python operators w3"
      ],
      "metadata": {
        "id": "0LKQTMPkJBfz"
      }
    },
    {
      "cell_type": "code",
      "execution_count": 1,
      "metadata": {
        "colab": {
          "base_uri": "https://localhost:8080/"
        },
        "id": "EMfUYkldNyR5",
        "outputId": "6d4014e8-e89e-42e9-aaff-1863519f85d9"
      },
      "outputs": [
        {
          "output_type": "stream",
          "name": "stdout",
          "text": [
            "8\n"
          ]
        }
      ],
      "source": [
        "x = 5\n",
        "x +=3\n",
        "print(x)"
      ]
    },
    {
      "cell_type": "markdown",
      "source": [
        "Multiply 10 with 5, and print the result"
      ],
      "metadata": {
        "id": "xyPkMJzvJhfD"
      }
    },
    {
      "cell_type": "code",
      "source": [
        "print(10 * 5)"
      ],
      "metadata": {
        "colab": {
          "base_uri": "https://localhost:8080/"
        },
        "id": "hrOVxKU0JitI",
        "outputId": "3352fa04-a654-400e-e49b-b7193d7fcea0"
      },
      "execution_count": 2,
      "outputs": [
        {
          "output_type": "stream",
          "name": "stdout",
          "text": [
            "50\n"
          ]
        }
      ]
    },
    {
      "cell_type": "markdown",
      "source": [
        "Divide 10 by 2, and print the result."
      ],
      "metadata": {
        "id": "bOI588ARJvFK"
      }
    },
    {
      "cell_type": "code",
      "source": [
        "print(10 / 2)"
      ],
      "metadata": {
        "colab": {
          "base_uri": "https://localhost:8080/"
        },
        "id": "WQtffwCaJvyA",
        "outputId": "67047d09-f4bb-45fd-c770-735adb10d812"
      },
      "execution_count": 3,
      "outputs": [
        {
          "output_type": "stream",
          "name": "stdout",
          "text": [
            "5.0\n"
          ]
        }
      ]
    },
    {
      "cell_type": "markdown",
      "source": [
        "Use the correct membership operator to check if \"apple\" is present in the fruits object."
      ],
      "metadata": {
        "id": "Tz3u5u1uJ57D"
      }
    },
    {
      "cell_type": "code",
      "source": [
        "fruits = [\"apple\", \"banana\"]\n",
        "if \"apple\" in fruits:\n",
        "  print(\"Yes, apple is a fruit!\")"
      ],
      "metadata": {
        "colab": {
          "base_uri": "https://localhost:8080/"
        },
        "id": "2qXI5oDZJ6v7",
        "outputId": "443af901-5733-4913-a3a6-fe27e5a158c2"
      },
      "execution_count": 4,
      "outputs": [
        {
          "output_type": "stream",
          "name": "stdout",
          "text": [
            "Yes, apple is a fruit!\n"
          ]
        }
      ]
    },
    {
      "cell_type": "markdown",
      "source": [
        "Use the correct comparison operator to check if 5 is not equal to 10."
      ],
      "metadata": {
        "id": "FwJdpf4pKWEK"
      }
    },
    {
      "cell_type": "code",
      "source": [
        "if 5 != 10:\n",
        "  print(\"5 and 10 is not equal\")"
      ],
      "metadata": {
        "colab": {
          "base_uri": "https://localhost:8080/"
        },
        "id": "hDyvRRHdKXHs",
        "outputId": "df6f0106-0ef8-4ec6-ef74-cb42e167a089"
      },
      "execution_count": 6,
      "outputs": [
        {
          "output_type": "stream",
          "name": "stdout",
          "text": [
            "5 and 10 is not equal\n"
          ]
        }
      ]
    },
    {
      "cell_type": "markdown",
      "source": [
        "Use the correct logical operator to check if at least one of two statements is True."
      ],
      "metadata": {
        "id": "6sL7Uic8Kng2"
      }
    },
    {
      "cell_type": "code",
      "source": [
        "if 5 == 10 or 4 == 4:\n",
        "  print(\"At least one of the statements is true\")"
      ],
      "metadata": {
        "colab": {
          "base_uri": "https://localhost:8080/"
        },
        "id": "1cCf0vd5KoST",
        "outputId": "a2914f7d-145c-49f4-ad08-83fe70c5fa7b"
      },
      "execution_count": 8,
      "outputs": [
        {
          "output_type": "stream",
          "name": "stdout",
          "text": [
            "At least one of the statements is true\n"
          ]
        }
      ]
    },
    {
      "cell_type": "markdown",
      "source": [
        "**Python list w3**"
      ],
      "metadata": {
        "id": "WCLKi03wLJqH"
      }
    },
    {
      "cell_type": "markdown",
      "source": [
        "What will be the result of the following syntax:\n",
        "mylist = ['apple', 'banana', 'cherry']\n",
        "print(mylist[1])"
      ],
      "metadata": {
        "id": "56GGWEVqMlN9"
      }
    },
    {
      "cell_type": "code",
      "source": [
        "mylist = ['apple', 'banana', 'cherry']\n",
        "print(mylist[1])"
      ],
      "metadata": {
        "colab": {
          "base_uri": "https://localhost:8080/"
        },
        "id": "aEHXq1erMmZc",
        "outputId": "2824d135-5b27-47fd-f401-f2e7c2959671"
      },
      "execution_count": 9,
      "outputs": [
        {
          "output_type": "stream",
          "name": "stdout",
          "text": [
            "banana\n"
          ]
        }
      ]
    },
    {
      "cell_type": "markdown",
      "source": [
        "What will be the result of the following syntax:"
      ],
      "metadata": {
        "id": "S1LsR0QZM1L3"
      }
    },
    {
      "cell_type": "code",
      "source": [
        "mylist = ['apple', 'banana', 'banana', 'cherry']\n",
        "print(mylist[2])"
      ],
      "metadata": {
        "colab": {
          "base_uri": "https://localhost:8080/"
        },
        "id": "gTP3KjN0M2Ow",
        "outputId": "a3d4b4d0-c5e0-4553-e7c4-4d313fd058bc"
      },
      "execution_count": 10,
      "outputs": [
        {
          "output_type": "stream",
          "name": "stdout",
          "text": [
            "banana\n"
          ]
        }
      ]
    },
    {
      "cell_type": "markdown",
      "source": [
        "True or False.\n",
        "List items cannot be removed after the list has been created."
      ],
      "metadata": {
        "id": "XiYyqvy3M-nt"
      }
    },
    {
      "cell_type": "markdown",
      "source": [
        "False"
      ],
      "metadata": {
        "id": "iem2EqyRNHsM"
      }
    },
    {
      "cell_type": "markdown",
      "source": [
        "Select the correct function for returning the number of items in a list:\n",
        "\n"
      ],
      "metadata": {
        "id": "IsC8JW9hNK0D"
      }
    },
    {
      "cell_type": "code",
      "source": [
        "thislist = ['apple', 'banana', 'cherry']\n",
        "print(len(thislist))"
      ],
      "metadata": {
        "colab": {
          "base_uri": "https://localhost:8080/"
        },
        "id": "0Y_BSGH7NOi-",
        "outputId": "fccccc0a-6d56-4c6d-e1ba-bf23b6b387e9"
      },
      "execution_count": 11,
      "outputs": [
        {
          "output_type": "stream",
          "name": "stdout",
          "text": [
            "3\n"
          ]
        }
      ]
    },
    {
      "cell_type": "markdown",
      "source": [
        "What will be the result of the following syntax:"
      ],
      "metadata": {
        "id": "8NQaESfbOFaO"
      }
    },
    {
      "cell_type": "code",
      "source": [
        "mylist = ['apple', 'banana', 'cherry']\n",
        "print(mylist[-1])"
      ],
      "metadata": {
        "colab": {
          "base_uri": "https://localhost:8080/"
        },
        "id": "CsvBxdcvOGJs",
        "outputId": "c6c2c4b3-3ea7-4180-ade9-642dc0415655"
      },
      "execution_count": 12,
      "outputs": [
        {
          "output_type": "stream",
          "name": "stdout",
          "text": [
            "cherry\n"
          ]
        }
      ]
    },
    {
      "cell_type": "markdown",
      "source": [
        "Print the second item in the fruits list."
      ],
      "metadata": {
        "id": "AN0saa8POlO0"
      }
    },
    {
      "cell_type": "code",
      "source": [
        "fruits = [\"apple\", \"banana\", \"cherry\"]\n",
        "print(fruits[1])"
      ],
      "metadata": {
        "colab": {
          "base_uri": "https://localhost:8080/"
        },
        "id": "rbLbaULKOl83",
        "outputId": "dedcabbb-a214-45f5-d56c-47c9a520b008"
      },
      "execution_count": 13,
      "outputs": [
        {
          "output_type": "stream",
          "name": "stdout",
          "text": [
            "banana\n"
          ]
        }
      ]
    },
    {
      "cell_type": "markdown",
      "source": [
        "What will be the result of the following syntax:"
      ],
      "metadata": {
        "id": "0ULkBWVSO2z2"
      }
    },
    {
      "cell_type": "code",
      "source": [
        "mylist = ['apple', 'banana', 'cherry', 'orange', 'kiwi']\n",
        "print(mylist[1:4])"
      ],
      "metadata": {
        "colab": {
          "base_uri": "https://localhost:8080/"
        },
        "id": "24xQsCP4O37v",
        "outputId": "fad5a202-a06c-4134-e92d-e5292e053494"
      },
      "execution_count": 14,
      "outputs": [
        {
          "output_type": "stream",
          "name": "stdout",
          "text": [
            "['banana', 'cherry', 'orange']\n"
          ]
        }
      ]
    },
    {
      "cell_type": "markdown",
      "source": [
        "Use a range of indexes to print the third, fourth, and fifth item in the list."
      ],
      "metadata": {
        "id": "bE_waUZCO_IY"
      }
    },
    {
      "cell_type": "code",
      "source": [
        "fruits = [\"apple\", \"banana\", \"cherry\", \"orange\", \"kiwi\", \"melon\", \"mango\"]\n",
        "print(fruits[2:5])"
      ],
      "metadata": {
        "colab": {
          "base_uri": "https://localhost:8080/"
        },
        "id": "AlNKCPVaPAA7",
        "outputId": "d64cf1ff-c239-4c3d-93ec-55e71601b393"
      },
      "execution_count": 16,
      "outputs": [
        {
          "output_type": "stream",
          "name": "stdout",
          "text": [
            "['cherry', 'orange', 'kiwi']\n"
          ]
        }
      ]
    },
    {
      "cell_type": "markdown",
      "source": [
        "What will be the result of the following syntax:"
      ],
      "metadata": {
        "id": "qraRFzfRQBK6"
      }
    },
    {
      "cell_type": "code",
      "source": [
        "mylist = ['apple', 'banana', 'cherry']\n",
        "mylist[0] = 'kiwi'\n",
        "print(mylist[1])"
      ],
      "metadata": {
        "colab": {
          "base_uri": "https://localhost:8080/"
        },
        "id": "tkxG3MMyQB10",
        "outputId": "bd32d826-a273-4cf6-9ce0-c42e4ca5cb63"
      },
      "execution_count": 18,
      "outputs": [
        {
          "output_type": "stream",
          "name": "stdout",
          "text": [
            "banana\n"
          ]
        }
      ]
    },
    {
      "cell_type": "markdown",
      "source": [
        "Change the value from \"apple\" to \"kiwi\", in the fruits list."
      ],
      "metadata": {
        "id": "EWT-ngUIQQMR"
      }
    },
    {
      "cell_type": "code",
      "source": [
        "fruits = [\"apple\", \"banana\", \"cherry\"]\n",
        "fruits[0] = \"kiwi\"\n",
        "print(fruits)"
      ],
      "metadata": {
        "colab": {
          "base_uri": "https://localhost:8080/"
        },
        "id": "AyuRijcnQQ8Y",
        "outputId": "0f882806-ed8e-4008-fa06-2c348e7882d3"
      },
      "execution_count": 19,
      "outputs": [
        {
          "output_type": "stream",
          "name": "stdout",
          "text": [
            "['kiwi', 'banana', 'cherry']\n"
          ]
        }
      ]
    },
    {
      "cell_type": "markdown",
      "source": [
        "What will be the result of the following syntax:"
      ],
      "metadata": {
        "id": "gl2QACeVQl0Y"
      }
    },
    {
      "cell_type": "code",
      "source": [
        "mylist = ['apple', 'banana', 'cherry']\n",
        "mylist[1:2] = ['kiwi', 'mango']\n",
        "print(mylist[2])"
      ],
      "metadata": {
        "colab": {
          "base_uri": "https://localhost:8080/"
        },
        "id": "D6fZr5IiQmdq",
        "outputId": "b12be746-753c-4353-8689-0c6ecfede5aa"
      },
      "execution_count": 20,
      "outputs": [
        {
          "output_type": "stream",
          "name": "stdout",
          "text": [
            "mango\n"
          ]
        }
      ]
    },
    {
      "cell_type": "markdown",
      "source": [
        "What will be the result of the following syntax:"
      ],
      "metadata": {
        "id": "vDY5iRGKRPUT"
      }
    },
    {
      "cell_type": "code",
      "source": [
        "mylist = ['apple', 'banana', 'cherry']\n",
        "mylist.insert(0, 'orange')\n",
        "print(mylist[1])"
      ],
      "metadata": {
        "colab": {
          "base_uri": "https://localhost:8080/"
        },
        "id": "5KDSeS_7RP33",
        "outputId": "f92a8c13-d3e9-48d8-8674-a727022dc1cd"
      },
      "execution_count": 21,
      "outputs": [
        {
          "output_type": "stream",
          "name": "stdout",
          "text": [
            "apple\n"
          ]
        }
      ]
    },
    {
      "cell_type": "markdown",
      "source": [
        "Use the insert method to add \"lemon\" as the second item in the fruits list."
      ],
      "metadata": {
        "id": "8YX0tX26Rqxe"
      }
    },
    {
      "cell_type": "code",
      "source": [
        "fruits = [\"apple\", \"banana\", \"cherry\"]\n",
        "fruits.insert(1,\"lemon\")\n",
        "print(fruits)"
      ],
      "metadata": {
        "colab": {
          "base_uri": "https://localhost:8080/"
        },
        "id": "E-PsjGjVRrgK",
        "outputId": "c95162a2-a999-4431-a398-df56d024ed70"
      },
      "execution_count": 26,
      "outputs": [
        {
          "output_type": "stream",
          "name": "stdout",
          "text": [
            "['apple', 'lemon', 'banana', 'cherry']\n"
          ]
        }
      ]
    },
    {
      "cell_type": "markdown",
      "source": [
        "Select the missing parts to add the elements of tropical to fruits:"
      ],
      "metadata": {
        "id": "rfQv5svhSjKz"
      }
    },
    {
      "cell_type": "code",
      "source": [
        "fruits = ['apple', 'banana', 'cherry']\n",
        "tropical = ['mango', 'pineapple', 'papaya']\n",
        "fruits.extend(tropical)\n",
        "print(fruits)"
      ],
      "metadata": {
        "colab": {
          "base_uri": "https://localhost:8080/"
        },
        "id": "kUONbPLRSj58",
        "outputId": "4c55a3ff-1ee0-45c8-88c1-0e6ebab584df"
      },
      "execution_count": 27,
      "outputs": [
        {
          "output_type": "stream",
          "name": "stdout",
          "text": [
            "['apple', 'banana', 'cherry', 'mango', 'pineapple', 'papaya']\n"
          ]
        }
      ]
    },
    {
      "cell_type": "markdown",
      "source": [
        "Use the remove method to remove \"banana\" from the fruits list."
      ],
      "metadata": {
        "id": "PeUXG7cxTZhb"
      }
    },
    {
      "cell_type": "code",
      "source": [
        "fruits = [\"apple\", \"banana\", \"cherry\"]\n",
        "fruits.remove(\"banana\")"
      ],
      "metadata": {
        "id": "K5nULPiYTaJs"
      },
      "execution_count": 28,
      "outputs": []
    },
    {
      "cell_type": "markdown",
      "source": [
        "What will be the result of the following syntax:"
      ],
      "metadata": {
        "id": "ol7vsIsYTwZV"
      }
    },
    {
      "cell_type": "code",
      "source": [
        "mylist = ['apple', 'banana', 'cherry']\n",
        "mylist.pop(1)\n",
        "print(mylist)"
      ],
      "metadata": {
        "colab": {
          "base_uri": "https://localhost:8080/"
        },
        "id": "3PsVU5X3TxUA",
        "outputId": "5c85c7bd-96f5-49e2-ddfc-ed327c320a47"
      },
      "execution_count": 29,
      "outputs": [
        {
          "output_type": "stream",
          "name": "stdout",
          "text": [
            "['apple', 'cherry']\n"
          ]
        }
      ]
    },
    {
      "cell_type": "markdown",
      "source": [
        "Insert the missing part of the while loop below to loop through the items of a list."
      ],
      "metadata": {
        "id": "SX9zwJ8qUN-G"
      }
    },
    {
      "cell_type": "code",
      "source": [
        "mylist = ['apple', 'banana', 'cherry']\n",
        "i = 0\n",
        "while i < len(mylist):\n",
        "  print(mylist[i])\n",
        "  i = i + 1"
      ],
      "metadata": {
        "colab": {
          "base_uri": "https://localhost:8080/"
        },
        "id": "DUn28kCSUOje",
        "outputId": "ad423d5d-19d2-4341-aacd-46d3939bf04c"
      },
      "execution_count": 30,
      "outputs": [
        {
          "output_type": "stream",
          "name": "stdout",
          "text": [
            "apple\n",
            "banana\n",
            "cherry\n"
          ]
        }
      ]
    },
    {
      "cell_type": "markdown",
      "source": [
        "Fill in the missing parts to complete the list comprehension:"
      ],
      "metadata": {
        "id": "7hNEQY73Uzv5"
      }
    },
    {
      "cell_type": "code",
      "source": [
        "fruits = [\"apple\", \"banana\", \"cherry\"]\n",
        "newlist = [x for x in fruits]"
      ],
      "metadata": {
        "id": "iAZnTQ7RU2ac"
      },
      "execution_count": null,
      "outputs": []
    },
    {
      "cell_type": "markdown",
      "source": [
        "python **tuple**"
      ],
      "metadata": {
        "id": "dJ8MI1KTX5sX"
      }
    },
    {
      "cell_type": "code",
      "source": [
        "fruits = (\"apple\", \"banana\", \"cherry\")\n",
        "print(len(fruits))"
      ],
      "metadata": {
        "id": "nmwlao3zYG3f"
      },
      "execution_count": null,
      "outputs": []
    },
    {
      "cell_type": "markdown",
      "source": [
        "Insert the missing part of the while loop below to loop through the items of a tuple"
      ],
      "metadata": {
        "id": "M3cm7wd2ebDR"
      }
    },
    {
      "cell_type": "code",
      "source": [
        "mytuple = ('apple', 'banana', 'cherry')\n",
        "i = 0\n",
        "while i < len(mytuple):\n",
        "  print(mytuple[i])\n",
        "  i = i + 1"
      ],
      "metadata": {
        "colab": {
          "base_uri": "https://localhost:8080/"
        },
        "id": "nPkJHUdTebzY",
        "outputId": "e20d527d-915d-41bb-93cb-98ea9159543f"
      },
      "execution_count": 31,
      "outputs": [
        {
          "output_type": "stream",
          "name": "stdout",
          "text": [
            "apple\n",
            "banana\n",
            "cherry\n"
          ]
        }
      ]
    },
    {
      "cell_type": "markdown",
      "source": [
        "Insert the missing part of the for loop below to loop through the items of a tuple by using the range function to loop through the tuple's index numbers."
      ],
      "metadata": {
        "id": "-e6rwv4Cepuz"
      }
    },
    {
      "cell_type": "code",
      "source": [
        "thistuple = (\"apple\", \"banana\", \"cherry\")\n",
        "for i in range(len(thistuple)):\n",
        "  print(thistuple[i])"
      ],
      "metadata": {
        "colab": {
          "base_uri": "https://localhost:8080/"
        },
        "id": "IgQmDGZzeqMF",
        "outputId": "ed4dbc94-0f2f-48dd-84ec-00a237ea5e82"
      },
      "execution_count": 32,
      "outputs": [
        {
          "output_type": "stream",
          "name": "stdout",
          "text": [
            "apple\n",
            "banana\n",
            "cherry\n"
          ]
        }
      ]
    },
    {
      "cell_type": "markdown",
      "source": [
        "**python set w3**"
      ],
      "metadata": {
        "id": "iOCl2vhUfbj1"
      }
    },
    {
      "cell_type": "markdown",
      "source": [
        "Select the correct function for returning the number of items in a set:"
      ],
      "metadata": {
        "id": "fZVSH6dbfgaB"
      }
    },
    {
      "cell_type": "code",
      "source": [
        "fruits = {'apple', 'banana', 'cherry'}\n",
        "print(len(fruits))"
      ],
      "metadata": {
        "colab": {
          "base_uri": "https://localhost:8080/"
        },
        "id": "gspwQpqGfhMI",
        "outputId": "fa93cd13-cea5-4f24-a347-ddbf85945c7a"
      },
      "execution_count": 33,
      "outputs": [
        {
          "output_type": "stream",
          "name": "stdout",
          "text": [
            "3\n"
          ]
        }
      ]
    },
    {
      "cell_type": "markdown",
      "source": [
        "Check if \"apple\" is present in the fruits set."
      ],
      "metadata": {
        "id": "GEUa7DN5fuCe"
      }
    },
    {
      "cell_type": "code",
      "source": [
        "fruits = {\"apple\", \"banana\", \"cherry\"}\n",
        "if \"apple\" in fruits:\n",
        "  print(\"Yes, apple is a fruit!\")"
      ],
      "metadata": {
        "colab": {
          "base_uri": "https://localhost:8080/"
        },
        "id": "z9Z8PYnvfus6",
        "outputId": "7ed85583-1a3e-4e1b-80d7-3a6d9f87cf29"
      },
      "execution_count": 34,
      "outputs": [
        {
          "output_type": "stream",
          "name": "stdout",
          "text": [
            "Yes, apple is a fruit!\n"
          ]
        }
      ]
    },
    {
      "cell_type": "markdown",
      "source": [
        "Use the add method to add \"orange\" to the fruits set."
      ],
      "metadata": {
        "id": "DW6b7Xw5gAy8"
      }
    },
    {
      "cell_type": "code",
      "source": [
        "fruits = {\"apple\", \"banana\", \"cherry\"}\n",
        "fruits.add(\"orange\")"
      ],
      "metadata": {
        "id": "IGNU5EQugBTe"
      },
      "execution_count": null,
      "outputs": []
    },
    {
      "cell_type": "markdown",
      "source": [
        "Use the correct method to add multiple items (more_fruits) to the fruits set."
      ],
      "metadata": {
        "id": "YKgRPpjYgStR"
      }
    },
    {
      "cell_type": "code",
      "source": [
        "fruits = {\"apple\", \"banana\", \"cherry\"}\n",
        "more_fruits = [\"orange\", \"mango\", \"grapes\"]\n",
        "fruits.update(more_fruits)"
      ],
      "metadata": {
        "id": "O_ExZ6augTPh"
      },
      "execution_count": null,
      "outputs": []
    },
    {
      "cell_type": "markdown",
      "source": [
        "Use the remove method to remove \"banana\" from the fruits set."
      ],
      "metadata": {
        "id": "uavbKQTsgkOr"
      }
    },
    {
      "cell_type": "code",
      "source": [
        "fruits = {\"apple\", \"banana\", \"cherry\"}\n",
        "fruits.remove(\"banana\")"
      ],
      "metadata": {
        "id": "nJCFvTl7gpt5"
      },
      "execution_count": null,
      "outputs": []
    },
    {
      "cell_type": "markdown",
      "source": [
        "Use the discard method to remove \"banana\" from the fruits set."
      ],
      "metadata": {
        "id": "h2uZqtOug3_v"
      }
    },
    {
      "cell_type": "code",
      "source": [
        "fruits = {\"apple\", \"banana\", \"cherry\"}\n",
        "fruits.discard(\"banana\")"
      ],
      "metadata": {
        "id": "p2g3OMfJg5FB"
      },
      "execution_count": null,
      "outputs": []
    },
    {
      "cell_type": "markdown",
      "source": [
        "Select the correct function to remove all items from a set:"
      ],
      "metadata": {
        "id": "cxP9x52BhJyj"
      }
    },
    {
      "cell_type": "code",
      "source": [
        "fruits = {'apple', 'banana', 'cherry'}\n",
        "fruits.clesr()"
      ],
      "metadata": {
        "id": "HgPLKSN6hN0x"
      },
      "execution_count": null,
      "outputs": []
    },
    {
      "cell_type": "markdown",
      "source": [
        "nsert the missing part of the for loop below to loop through the items of a set."
      ],
      "metadata": {
        "id": "2prtijE6hYa8"
      }
    },
    {
      "cell_type": "code",
      "source": [
        "myset = {'apple', 'banana', 'cherry'}\n",
        "for x in myset:\n",
        "  print(x)"
      ],
      "metadata": {
        "id": "Wad73j0IheK6"
      },
      "execution_count": null,
      "outputs": []
    },
    {
      "cell_type": "markdown",
      "source": [
        "**python dictionary w3**"
      ],
      "metadata": {
        "id": "HuR2GxXRhvtP"
      }
    },
    {
      "cell_type": "markdown",
      "source": [
        "Select the correct function to print the number of key/value pairs in the dictionary:"
      ],
      "metadata": {
        "id": "6riM17BEiVJh"
      }
    },
    {
      "cell_type": "code",
      "source": [
        "x = {'type' : 'fruit', 'name' : 'banana'}\n",
        "print(len(x))"
      ],
      "metadata": {
        "id": "OJ_Tvdb9iV13"
      },
      "execution_count": null,
      "outputs": []
    },
    {
      "cell_type": "markdown",
      "source": [
        "Use the get method to print the value of the \"model\" key of the car dictionary."
      ],
      "metadata": {
        "id": "p4_vdJm5ie4q"
      }
    },
    {
      "cell_type": "code",
      "source": [
        "car =\t{\n",
        "  \"brand\": \"Ford\",\n",
        "  \"model\": \"Mustang\",\n",
        "  \"year\": 1964\n",
        "}\n",
        "print(car.get(\"model\"))"
      ],
      "metadata": {
        "id": "rn_eoEdQijYr"
      },
      "execution_count": null,
      "outputs": []
    },
    {
      "cell_type": "markdown",
      "source": [
        "Change the \"year\" value from 1964 to 2020."
      ],
      "metadata": {
        "id": "C-cntY43jAyk"
      }
    },
    {
      "cell_type": "code",
      "source": [
        "car =\t{\n",
        "  \"brand\": \"Ford\",\n",
        "  \"model\": \"Mustang\",\n",
        "  \"year\": 1964\n",
        "}\n",
        "car[\"year\"] = 2020"
      ],
      "metadata": {
        "id": "9iJfHEKkjBRO"
      },
      "execution_count": null,
      "outputs": []
    },
    {
      "cell_type": "markdown",
      "source": [
        " Add the key/value pair \"color\" : \"red\" to the car dictionary."
      ],
      "metadata": {
        "id": "H5FN4nEajrmZ"
      }
    },
    {
      "cell_type": "code",
      "source": [
        "car =\t{\n",
        "  \"brand\": \"Ford\",\n",
        "  \"model\": \"Mustang\",\n",
        "  \"year\": 1964\n",
        "}\n",
        "car[\"color\"] = \"red\""
      ],
      "metadata": {
        "id": "3EvP07sGjs86"
      },
      "execution_count": null,
      "outputs": []
    },
    {
      "cell_type": "markdown",
      "source": [
        "Insert the missing part to add an item to the dictionary."
      ],
      "metadata": {
        "id": "cBXfZ_F0kEtp"
      }
    },
    {
      "cell_type": "code",
      "source": [
        "x = {'type' : 'fruit', 'name' : 'apple'}\n",
        "x.update({'color' : 'green'})"
      ],
      "metadata": {
        "id": "aVYD_44akFbJ"
      },
      "execution_count": null,
      "outputs": []
    },
    {
      "cell_type": "markdown",
      "source": [
        "**python loop w3**"
      ],
      "metadata": {
        "id": "YlAOmpoWklWU"
      }
    },
    {
      "cell_type": "markdown",
      "source": [
        "Print i as long as i is less than 6."
      ],
      "metadata": {
        "id": "luQoR66xktrz"
      }
    },
    {
      "cell_type": "code",
      "source": [
        "i = 1\n",
        "while i < 6:\n",
        "  print(i)\n",
        "  i += 1"
      ],
      "metadata": {
        "id": "AG0VGc_PkuiG"
      },
      "execution_count": null,
      "outputs": []
    },
    {
      "cell_type": "markdown",
      "source": [
        "Stop the loop if i is 3."
      ],
      "metadata": {
        "id": "hCfKLO35k6yC"
      }
    },
    {
      "cell_type": "code",
      "source": [
        "i = 1\n",
        "while i < 6:\n",
        "  if i == 3:\n",
        "    break\n",
        "  i += 1"
      ],
      "metadata": {
        "id": "bfzWRKZqk9Kb"
      },
      "execution_count": null,
      "outputs": []
    },
    {
      "cell_type": "markdown",
      "source": [
        "In the loop, when i is 3, jump directly to the next iteration."
      ],
      "metadata": {
        "id": "f7QfJf-0lE65"
      }
    },
    {
      "cell_type": "code",
      "source": [
        "i = 0\n",
        "while i < 6:\n",
        "  i += 1\n",
        "  if i == 3:\n",
        "    continue\n",
        "  print(i)"
      ],
      "metadata": {
        "id": "nR2o4PonlFZv"
      },
      "execution_count": null,
      "outputs": []
    },
    {
      "cell_type": "markdown",
      "source": [
        "Print a message once the condition is false."
      ],
      "metadata": {
        "id": "BN8dvuTClNuh"
      }
    },
    {
      "cell_type": "code",
      "source": [
        "i = 1\n",
        "while i < 6:\n",
        "  print(i)\n",
        "  i += 1\n",
        "else:\n",
        "  print(\"i is no longer less than 6\")"
      ],
      "metadata": {
        "id": "dD4LxroElOcV"
      },
      "execution_count": null,
      "outputs": []
    },
    {
      "cell_type": "markdown",
      "source": [
        "Loop through the items in the fruits list."
      ],
      "metadata": {
        "id": "YKK_jD0ElnNZ"
      }
    },
    {
      "cell_type": "code",
      "source": [
        "fruits = [\"apple\", \"banana\", \"cherry\"]\n",
        "for x in fruits:\n",
        "  print(x)"
      ],
      "metadata": {
        "id": "dKFrA8e2lnwK"
      },
      "execution_count": null,
      "outputs": []
    }
  ]
}